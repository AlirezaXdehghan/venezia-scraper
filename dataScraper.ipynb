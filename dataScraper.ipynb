{
 "cells": [
  {
   "cell_type": "code",
   "execution_count": 142,
   "metadata": {
    "collapsed": true
   },
   "outputs": [],
   "source": [
    "import json\n",
    "import requests\n",
    "from bs4 import BeautifulSoup\n",
    "import pandas as pd\n",
    "from tabulate import tabulate\n",
    "from datetime import datetime"
   ]
  },
  {
   "cell_type": "code",
   "execution_count": 127,
   "outputs": [],
   "source": [
    "page = requests.get(\"https://portale.comune.venezia.it/millefoglie/statistiche/scheda/LOCALITA-POPOLAETASTRA-1$2$3$4$5$6$7$8$9$10$11$12$13$14$15$16$17$18$19$20$21$22$23$24$25$26$27$28$29$30$31$32$33$34$35$36$37$38$39$40$41$42$43$44$45$46$47$48$49$50$51$52$53$54$55$56$57$58$59$60$61$62$63$64$65$66$67$68$69$70$71$72$73$74$75$76$77$78$79$80$81$82$83$84$85$86$87$88$89$90$91$92$93$94$95$96$97$98$99$100$------\")\n",
    "soup = BeautifulSoup(page.content,'html.parser')"
   ],
   "metadata": {
    "collapsed": false
   }
  },
  {
   "cell_type": "code",
   "execution_count": 128,
   "outputs": [],
   "source": [
    "table = soup.find(\"table\")"
   ],
   "metadata": {
    "collapsed": false
   }
  },
  {
   "cell_type": "code",
   "execution_count": 129,
   "outputs": [],
   "source": [
    "rows = table.findAll(\"tr\")\n",
    "rows = rows[2:]"
   ],
   "metadata": {
    "collapsed": false
   }
  },
  {
   "cell_type": "code",
   "execution_count": 130,
   "outputs": [],
   "source": [
    "# if column 0 is populated and column 1 is not 'M', then it's a new localita\n",
    "# if column 0 is populated and column 1 is 'M', then it's a new country\n",
    "# if column 0 is not populated, then column '1' will be either 'F' or 'M+F'\n",
    "# san paolo | afghan | M | 1 | 10\n",
    "#           |    F   | 1 | 10\n",
    "#           |   M+F  | 1 | 10\n",
    "#  cinese   |    M   | 1 | 10"
   ],
   "metadata": {
    "collapsed": false
   }
  },
  {
   "cell_type": "code",
   "execution_count": 131,
   "outputs": [],
   "source": [
    "countryDictionary = {}\n",
    "localitaCountryDictionary = {}\n",
    "localita = \"firstTimeLocalita!\"\n",
    "flag = False\n",
    "for row in rows:\n",
    "    columns = row.findAll(\"td\")\n",
    "    if len(columns) < 5:\n",
    "        continue\n",
    "    elif columns[0].text != \"\" and columns[1].text != 'M':\n",
    "        #new localita code\n",
    "        if localita != \"firstTimeLocalita!\": #we have finished reading a localita!\n",
    "            localitaCountryDictionary[localita] = countryDictionary\n",
    "            countryDictionary = {}\n",
    "\n",
    "        localita = columns[0].text\n",
    "        country = columns[1].text\n",
    "        M = {\"0-4\": columns[3].text, \"5-9\": columns[4].text, \"10-14\": columns[5].text, \"15-19\": columns[6].text, \"20-24\": columns[7].text,\"25-29\": columns[8].text,\"30-34\": columns[9].text, \"35-39\": columns[10].text, \"40-44\": columns[11].text, \"45-49\": columns[12].text, \"50-54\": columns[13].text, \"55-59\":columns[14].text, \"60-64\": columns[15].text, \"65-69\": columns[16].text, \"70-74\": columns[17].text, \"75-79\": columns[18].text, \"80-84\": columns[19].text, \"85-89\": columns[20].text, \"90-94\": columns[21].text, \"95-99\": columns[22].text, \"100+\": columns[23].text}\n",
    "\n",
    "    elif columns[0].text != \"\" and columns[1].text == 'M':\n",
    "        #new country | same localita\n",
    "        country = columns[0].text\n",
    "        M = {\"0-4\": columns[2].text, \"5-9\": columns[3].text, \"10-14\": columns[4].text, \"15-19\": columns[5].text, \"20-24\": columns[6].text,\"25-29\": columns[7].text,\"30-34\": columns[8].text, \"35-39\": columns[9].text, \"40-44\": columns[10].text, \"45-49\": columns[11].text, \"50-54\": columns[12].text, \"55-59\":columns[13].text, \"60-64\": columns[14].text, \"65-69\": columns[15].text, \"70-74\": columns[16].text, \"75-79\": columns[17].text, \"80-84\": columns[18].text, \"85-89\": columns[19].text, \"90-94\": columns[20].text, \"95-99\": columns[21].text, \"100+\": columns[22].text}\n",
    "\n",
    "    elif columns[0].text == \"\" and columns[1].text == 'F':\n",
    "        F = {\"0-4\": columns[2].text, \"5-9\": columns[3].text, \"10-14\": columns[4].text, \"15-19\": columns[5].text, \"20-24\": columns[6].text,\"25-29\": columns[7].text,\"30-34\": columns[8].text, \"35-39\": columns[9].text, \"40-44\": columns[10].text, \"45-49\": columns[11].text, \"50-54\": columns[12].text, \"55-59\":columns[13].text, \"60-64\": columns[14].text, \"65-69\": columns[15].text, \"70-74\": columns[16].text, \"75-79\": columns[17].text, \"80-84\": columns[18].text, \"85-89\": columns[19].text, \"90-94\": columns[20].text, \"95-99\": columns[21].text, \"100+\": columns[22].text}\n",
    "\n",
    "    #we don't want M+F, but it's a good seperator!\n",
    "    elif columns[0].text == \"\" and columns[1].text == 'M+F':\n",
    "        countryDictionary[country] = {\"M\": M, \"F\": F}"
   ],
   "metadata": {
    "collapsed": false
   }
  },
  {
   "cell_type": "code",
   "execution_count": 135,
   "outputs": [
    {
     "data": {
      "text/plain": "dict_keys(['San Polo', 'Santa Croce', 'Dorsoduro', 'Sacca Fisola', 'Giudecca', \"Sant'Erasmo\", 'San Marco', 'Castello', \"Sant'Elena\", 'Isola San Giorgio', 'Isola San Clemente', 'Cannaregio', 'Murano', 'Vignole', 'Mazzorbo', 'Dese', 'aree non altrove classificate (M.3', 'Bissuola', 'Quartiere Pertini', 'Carpenedo', \"Pra' Secco\", 'Borgoforte', 'Villaggio Sartori', 'Isola San Lazzaro degli Armeni', 'Pellestrina', 'San Pietro in Volta', 'Santa Maria del Mare', 'Campalto CEP', 'Campalto', 'Favaro', 'Tessera', 'Campalto Cimitero', 'Campalto Bagaron', 'Campalto Gobbi', 'Torre Antica', 'Favaro Col San Martino', 'Favaro Cimitero', \"Ca' Solaro\", 'Burano', 'Aeroporto', 'Asseggiano', 'Macello', 'Chirignago', 'aree non altrove classificate (M.5', 'Molino Ronchin', 'Zelarino', 'Sardi (M.5 - Q11)', 'Villaggio San Marco', 'Altobello', 'Piave 1860', 'Zona Commerciale via Torino', 'aree non altrove classificate (M.4', 'Cipressina', 'Scaramuzza', 'Trivignano', 'Marocco Zelarino', 'Gatta - Bonduà', \"Taru'\", 'Capitello', 'Sardi (M.5 - Q.12)', 'Case Dosa', 'Gazzera', 'Marocco Terraglio', 'La Favorita'])"
     },
     "execution_count": 135,
     "metadata": {},
     "output_type": "execute_result"
    }
   ],
   "source": [
    "localitaCountryDictionary.keys()"
   ],
   "metadata": {
    "collapsed": false
   }
  },
  {
   "cell_type": "code",
   "execution_count": 133,
   "outputs": [
    {
     "data": {
      "text/plain": "{'M': {'0-4': '0',\n  '5-9': '0',\n  '10-14': '0',\n  '15-19': '0',\n  '20-24': '0',\n  '25-29': '0',\n  '30-34': '0',\n  '35-39': '0',\n  '40-44': '1',\n  '45-49': '0',\n  '50-54': '0',\n  '55-59': '1',\n  '60-64': '0',\n  '65-69': '0',\n  '70-74': '0',\n  '75-79': '0',\n  '80-84': '0',\n  '85-89': '0',\n  '90-94': '0',\n  '95-99': '0',\n  '100+': '0'},\n 'F': {'0-4': '0',\n  '5-9': '0',\n  '10-14': '0',\n  '15-19': '0',\n  '20-24': '0',\n  '25-29': '0',\n  '30-34': '0',\n  '35-39': '0',\n  '40-44': '0',\n  '45-49': '0',\n  '50-54': '0',\n  '55-59': '0',\n  '60-64': '0',\n  '65-69': '0',\n  '70-74': '0',\n  '75-79': '0',\n  '80-84': '0',\n  '85-89': '0',\n  '90-94': '0',\n  '95-99': '0',\n  '100+': '0'}}"
     },
     "execution_count": 133,
     "metadata": {},
     "output_type": "execute_result"
    }
   ],
   "source": [
    "localitaCountryDictionary['Dorsoduro']['ECUADOREGNA(609)']"
   ],
   "metadata": {
    "collapsed": false
   }
  },
  {
   "cell_type": "code",
   "execution_count": 152,
   "outputs": [],
   "source": [
    "file_name = \"Stranieri Data \" + str(datetime.now())+\".json\"\n",
    "with open(file_name, \"w\") as outfile:\n",
    "    json.dump(localitaCountryDictionary, outfile)"
   ],
   "metadata": {
    "collapsed": false
   }
  }
 ],
 "metadata": {
  "kernelspec": {
   "display_name": "Python 3",
   "language": "python",
   "name": "python3"
  },
  "language_info": {
   "codemirror_mode": {
    "name": "ipython",
    "version": 2
   },
   "file_extension": ".py",
   "mimetype": "text/x-python",
   "name": "python",
   "nbconvert_exporter": "python",
   "pygments_lexer": "ipython2",
   "version": "2.7.6"
  }
 },
 "nbformat": 4,
 "nbformat_minor": 0
}
